{
 "cells": [
  {
   "cell_type": "code",
   "execution_count": 292,
   "metadata": {},
   "outputs": [],
   "source": [
    "import torch\n",
    "import csv\n",
    "import os\n",
    "from torch.autograd import Variable\n",
    "import torch.nn as nn\n",
    "import torch.nn.functional as F\n",
    "from tqdm import tqdm_notebook as tqdm\n",
    "import numpy as np\n",
    "import matplotlib.pyplot as plt\n",
    "import random\n",
    "#import holoviews as hv\n",
    "#import bokeh\n",
    "#hv.extension('bokeh')\n",
    "import padasip as pa\n",
    "from scipy import signal\n",
    "from scipy.signal import lfilter\n",
    "import math\n",
    "import threading\n",
    "import sys\n",
    "from decimal import Decimal\n",
    "from mpl_toolkits import mplot3d\n",
    "import matplotlib.patches as mpatches\n",
    "from sklearn.metrics import mutual_info_score\n",
    "from scipy.stats import multivariate_normal\n",
    "from itertools import groupby\n",
    "#np.set_printoptions(threshold=sys.maxsize)\n",
    "\n",
    "\n",
    "\n",
    "SEQ=[]\n",
    "Err=[]"
   ]
  },
  {
   "cell_type": "code",
   "execution_count": 294,
   "metadata": {},
   "outputs": [],
   "source": [
    "with open('rand.csv') as csvfile:\n",
    "    readCSV = csv.reader(csvfile, delimiter=',')\n",
    "    count=0\n",
    "    for row in readCSV:\n",
    "        \n",
    "        SEQ.append(int(row[1]))\n",
    "        #pure.append(int(row[1]))\n",
    "        #if int(row[1])==1 and count==1:\n",
    "        #    SEQ.insert(len(SEQ)-1,ord(row[4]))\n",
    "        #count=1\n",
    "class splitter(object):\n",
    "\n",
    "    def __init__(self, breaker):\n",
    "        self.breaker = breaker\n",
    "        self.current_group = 0\n",
    "\n",
    "    def __call__(self, item):\n",
    "        if item == self.breaker:\n",
    "            self.current_group+=1\n",
    "        return self.current_group\n",
    "\n",
    "    def group(self, items):\n",
    "        return (list(v) for k,v in groupby(items,self))\n",
    "#A=list(splitter(1).group(SEQ))\n",
    "#B=list(splitter(1).group(pure))\n",
    "#A = [X for X in A if len(X)>2]\n",
    "#B = [X for X in B if len(X)>1]\n",
    "\n",
    "#def longest(a):\n",
    "#    return max(len(a), *map(longest, a)) if isinstance(a, list) and a else 0\n",
    "#long=longest(A)\n",
    "#for array in A:\n",
    "#    while len(array)<long:\n",
    "#        array.insert(0,0)\n",
    "Train=A[:850]"
   ]
  },
  {
   "cell_type": "code",
   "execution_count": 284,
   "metadata": {},
   "outputs": [],
   "source": [
    "#69\n",
    "seed=7568\n",
    "os.environ['PYTHONHASHSEED']=str(seed)\n",
    "random.seed(seed)\n",
    "np.random.seed(seed)\n",
    "torch.manual_seed(seed)\n",
    "#waiting on data\n",
    "input_size=100\n",
    "CONVOLUTION_SIZE=1\n",
    "\n",
    "#5 locations\n",
    "#40 error types"
   ]
  },
  {
   "cell_type": "code",
   "execution_count": 285,
   "metadata": {},
   "outputs": [],
   "source": [
    "class Net(nn.Module):\n",
    "    def __init__(self):\n",
    "        super(Net, self).__init__()\n",
    "        self.fc1 = nn.Linear(input_size, CONVOLUTION_SIZE)\n",
    "        self.fc2 = nn.Linear(CONVOLUTION_SIZE, CONVOLUTION_SIZE)\n",
    "        self.fc3 = nn.Linear(CONVOLUTION_SIZE, input_size)\n",
    "        \n",
    "    def forward(self, x):\n",
    "        output = F.leaky_relu(self.fc1(x))\n",
    "        output = F.leaky_relu(self.fc2(output))\n",
    "        output = F.leaky_relu(self.fc3(output))\n",
    "        return output"
   ]
  },
  {
   "cell_type": "code",
   "execution_count": 286,
   "metadata": {},
   "outputs": [],
   "source": [
    "model=Net()\n",
    "#model_A=Net()\n",
    "#model_B=Net()\n",
    "optimizers =torch.optim.Adam(model.parameters(), lr=.01)\n",
    "criterion=torch.nn.MSELoss()\n",
    "plot_loss=[]"
   ]
  },
  {
   "cell_type": "code",
   "execution_count": 290,
   "metadata": {},
   "outputs": [
    {
     "data": {
      "application/vnd.jupyter.widget-view+json": {
       "model_id": "7ebbfabf295b48778ef2af0acc3a7329",
       "version_major": 2,
       "version_minor": 0
      },
      "text/plain": [
       "HBox(children=(IntProgress(value=0, max=101), HTML(value='')))"
      ]
     },
     "metadata": {},
     "output_type": "display_data"
    },
    {
     "name": "stdout",
     "output_type": "stream",
     "text": [
      "tensor([[ 7.9910e-01, -3.4311e-03,  3.3095e-01, -3.1312e-03, -9.6326e-03,\n",
      "          6.2644e-01,  4.4436e-02,  1.5781e-01, -6.9812e-03, -1.3566e-02,\n",
      "          6.5302e-01, -5.3481e-03,  5.2795e-02,  2.2757e-01,  6.5295e-01,\n",
      "          2.4637e-01,  5.5854e-02,  1.0571e+00, -4.6764e-03,  4.1689e-01,\n",
      "         -7.2121e-03, -3.4072e-03,  1.9337e-01, -2.6555e-03,  2.2474e-01,\n",
      "          3.8135e-01,  2.2114e-01,  4.7959e-01,  3.4729e-01,  1.4744e+00,\n",
      "         -1.3289e-02, -1.0205e-02, -7.3428e-03, -8.5724e-03, -7.5317e-03,\n",
      "          1.6982e-01,  1.1571e+00,  4.7641e-01, -1.3780e-03,  7.1030e-01,\n",
      "          1.8286e-01, -9.1503e-04,  6.1372e-01, -7.1592e-03, -1.3664e-03,\n",
      "          1.1899e+00, -1.3432e-02,  1.1032e+00,  1.4566e-02, -1.2091e-02,\n",
      "         -2.5008e-03, -1.1081e-02, -3.0695e-05, -5.3519e-03, -6.1787e-03,\n",
      "          6.2318e-01, -1.1882e-02,  1.1755e-01,  7.4348e-01, -7.7060e-03,\n",
      "         -5.1559e-03,  1.0025e+00, -5.4441e-03, -3.3558e-03, -4.9245e-03,\n",
      "         -6.7467e-03, -1.1519e-03,  1.0431e+00,  2.3625e-01, -1.4453e-02,\n",
      "         -5.7544e-03,  7.7862e-03,  9.8592e-02, -1.1338e-02,  1.6782e-01,\n",
      "          8.3368e-01,  8.6841e-01,  9.2163e-02, -1.1250e-03, -5.9822e-03,\n",
      "         -3.6485e-03,  3.1514e-01,  1.0485e+00, -4.4549e-03,  2.2388e-01,\n",
      "         -9.8874e-03,  2.5153e-01, -1.3169e-03,  1.8860e-01,  3.0049e-03,\n",
      "         -2.7936e-04, -7.8881e-03, -6.3022e-03,  4.3313e-01,  7.8875e-01,\n",
      "          3.5981e-01,  5.1599e-01, -2.2792e-03, -1.2332e-02, -1.1634e-02]],\n",
      "       grad_fn=<LeakyReluBackward0>)\n",
      "\n"
     ]
    },
    {
     "ename": "TypeError",
     "evalue": "'int' object is not callable",
     "output_type": "error",
     "traceback": [
      "\u001b[1;31m---------------------------------------------------------------------------\u001b[0m",
      "\u001b[1;31mTypeError\u001b[0m                                 Traceback (most recent call last)",
      "\u001b[1;32m<ipython-input-290-a5ac5eeff9df>\u001b[0m in \u001b[0;36m<module>\u001b[1;34m\u001b[0m\n\u001b[0;32m     14\u001b[0m     \u001b[0mprint\u001b[0m\u001b[1;33m(\u001b[0m\u001b[0mCURR_STATE\u001b[0m\u001b[1;33m)\u001b[0m\u001b[1;33m\u001b[0m\u001b[1;33m\u001b[0m\u001b[0m\n\u001b[0;32m     15\u001b[0m     \u001b[0mPREDICTIONS\u001b[0m\u001b[1;33m.\u001b[0m\u001b[0mappend\u001b[0m\u001b[1;33m(\u001b[0m\u001b[0mCURR_STATE\u001b[0m\u001b[1;33m)\u001b[0m\u001b[1;33m\u001b[0m\u001b[1;33m\u001b[0m\u001b[0m\n\u001b[1;32m---> 16\u001b[1;33m     \u001b[0mloss\u001b[0m\u001b[1;33m=\u001b[0m\u001b[0mcriterion\u001b[0m\u001b[1;33m(\u001b[0m\u001b[0mCURR_STATE\u001b[0m\u001b[1;33m,\u001b[0m\u001b[0mnp\u001b[0m\u001b[1;33m.\u001b[0m\u001b[0marray\u001b[0m\u001b[1;33m(\u001b[0m\u001b[1;33m[\u001b[0m\u001b[0mTrain\u001b[0m\u001b[1;33m[\u001b[0m\u001b[0mK\u001b[0m\u001b[1;33m]\u001b[0m\u001b[1;33m[\u001b[0m\u001b[1;36m100\u001b[0m\u001b[1;33m]\u001b[0m\u001b[1;33m]\u001b[0m\u001b[1;33m)\u001b[0m\u001b[1;33m)\u001b[0m\u001b[1;33m\u001b[0m\u001b[1;33m\u001b[0m\u001b[0m\n\u001b[0m\u001b[0;32m     17\u001b[0m \u001b[1;33m\u001b[0m\u001b[0m\n\u001b[0;32m     18\u001b[0m \u001b[1;33m\u001b[0m\u001b[0m\n",
      "\u001b[1;32mD:\\anish\\Documents\\RESEARCH\\lib\\site-packages\\torch\\nn\\modules\\module.py\u001b[0m in \u001b[0;36m__call__\u001b[1;34m(self, *input, **kwargs)\u001b[0m\n\u001b[0;32m    545\u001b[0m             \u001b[0mresult\u001b[0m \u001b[1;33m=\u001b[0m \u001b[0mself\u001b[0m\u001b[1;33m.\u001b[0m\u001b[0m_slow_forward\u001b[0m\u001b[1;33m(\u001b[0m\u001b[1;33m*\u001b[0m\u001b[0minput\u001b[0m\u001b[1;33m,\u001b[0m \u001b[1;33m**\u001b[0m\u001b[0mkwargs\u001b[0m\u001b[1;33m)\u001b[0m\u001b[1;33m\u001b[0m\u001b[1;33m\u001b[0m\u001b[0m\n\u001b[0;32m    546\u001b[0m         \u001b[1;32melse\u001b[0m\u001b[1;33m:\u001b[0m\u001b[1;33m\u001b[0m\u001b[1;33m\u001b[0m\u001b[0m\n\u001b[1;32m--> 547\u001b[1;33m             \u001b[0mresult\u001b[0m \u001b[1;33m=\u001b[0m \u001b[0mself\u001b[0m\u001b[1;33m.\u001b[0m\u001b[0mforward\u001b[0m\u001b[1;33m(\u001b[0m\u001b[1;33m*\u001b[0m\u001b[0minput\u001b[0m\u001b[1;33m,\u001b[0m \u001b[1;33m**\u001b[0m\u001b[0mkwargs\u001b[0m\u001b[1;33m)\u001b[0m\u001b[1;33m\u001b[0m\u001b[1;33m\u001b[0m\u001b[0m\n\u001b[0m\u001b[0;32m    548\u001b[0m         \u001b[1;32mfor\u001b[0m \u001b[0mhook\u001b[0m \u001b[1;32min\u001b[0m \u001b[0mself\u001b[0m\u001b[1;33m.\u001b[0m\u001b[0m_forward_hooks\u001b[0m\u001b[1;33m.\u001b[0m\u001b[0mvalues\u001b[0m\u001b[1;33m(\u001b[0m\u001b[1;33m)\u001b[0m\u001b[1;33m:\u001b[0m\u001b[1;33m\u001b[0m\u001b[1;33m\u001b[0m\u001b[0m\n\u001b[0;32m    549\u001b[0m             \u001b[0mhook_result\u001b[0m \u001b[1;33m=\u001b[0m \u001b[0mhook\u001b[0m\u001b[1;33m(\u001b[0m\u001b[0mself\u001b[0m\u001b[1;33m,\u001b[0m \u001b[0minput\u001b[0m\u001b[1;33m,\u001b[0m \u001b[0mresult\u001b[0m\u001b[1;33m)\u001b[0m\u001b[1;33m\u001b[0m\u001b[1;33m\u001b[0m\u001b[0m\n",
      "\u001b[1;32mD:\\anish\\Documents\\RESEARCH\\lib\\site-packages\\torch\\nn\\modules\\loss.py\u001b[0m in \u001b[0;36mforward\u001b[1;34m(self, input, target)\u001b[0m\n\u001b[0;32m    429\u001b[0m \u001b[1;33m\u001b[0m\u001b[0m\n\u001b[0;32m    430\u001b[0m     \u001b[1;32mdef\u001b[0m \u001b[0mforward\u001b[0m\u001b[1;33m(\u001b[0m\u001b[0mself\u001b[0m\u001b[1;33m,\u001b[0m \u001b[0minput\u001b[0m\u001b[1;33m,\u001b[0m \u001b[0mtarget\u001b[0m\u001b[1;33m)\u001b[0m\u001b[1;33m:\u001b[0m\u001b[1;33m\u001b[0m\u001b[1;33m\u001b[0m\u001b[0m\n\u001b[1;32m--> 431\u001b[1;33m         \u001b[1;32mreturn\u001b[0m \u001b[0mF\u001b[0m\u001b[1;33m.\u001b[0m\u001b[0mmse_loss\u001b[0m\u001b[1;33m(\u001b[0m\u001b[0minput\u001b[0m\u001b[1;33m,\u001b[0m \u001b[0mtarget\u001b[0m\u001b[1;33m,\u001b[0m \u001b[0mreduction\u001b[0m\u001b[1;33m=\u001b[0m\u001b[0mself\u001b[0m\u001b[1;33m.\u001b[0m\u001b[0mreduction\u001b[0m\u001b[1;33m)\u001b[0m\u001b[1;33m\u001b[0m\u001b[1;33m\u001b[0m\u001b[0m\n\u001b[0m\u001b[0;32m    432\u001b[0m \u001b[1;33m\u001b[0m\u001b[0m\n\u001b[0;32m    433\u001b[0m \u001b[1;33m\u001b[0m\u001b[0m\n",
      "\u001b[1;32mD:\\anish\\Documents\\RESEARCH\\lib\\site-packages\\torch\\nn\\functional.py\u001b[0m in \u001b[0;36mmse_loss\u001b[1;34m(input, target, size_average, reduce, reduction)\u001b[0m\n\u001b[0;32m   2175\u001b[0m     \u001b[0mSee\u001b[0m \u001b[1;33m:\u001b[0m\u001b[1;32mclass\u001b[0m\u001b[1;33m:\u001b[0m\u001b[0;31m`\u001b[0m\u001b[1;33m~\u001b[0m\u001b[0mtorch\u001b[0m\u001b[1;33m.\u001b[0m\u001b[0mnn\u001b[0m\u001b[1;33m.\u001b[0m\u001b[0mMSELoss\u001b[0m\u001b[0;31m`\u001b[0m \u001b[1;32mfor\u001b[0m \u001b[0mdetails\u001b[0m\u001b[1;33m.\u001b[0m\u001b[1;33m\u001b[0m\u001b[1;33m\u001b[0m\u001b[0m\n\u001b[0;32m   2176\u001b[0m     \"\"\"\n\u001b[1;32m-> 2177\u001b[1;33m     \u001b[1;32mif\u001b[0m \u001b[1;32mnot\u001b[0m \u001b[1;33m(\u001b[0m\u001b[0mtarget\u001b[0m\u001b[1;33m.\u001b[0m\u001b[0msize\u001b[0m\u001b[1;33m(\u001b[0m\u001b[1;33m)\u001b[0m \u001b[1;33m==\u001b[0m \u001b[0minput\u001b[0m\u001b[1;33m.\u001b[0m\u001b[0msize\u001b[0m\u001b[1;33m(\u001b[0m\u001b[1;33m)\u001b[0m\u001b[1;33m)\u001b[0m\u001b[1;33m:\u001b[0m\u001b[1;33m\u001b[0m\u001b[1;33m\u001b[0m\u001b[0m\n\u001b[0m\u001b[0;32m   2178\u001b[0m         warnings.warn(\"Using a target size ({}) that is different to the input size ({}). \"\n\u001b[0;32m   2179\u001b[0m                       \u001b[1;34m\"This will likely lead to incorrect results due to broadcasting. \"\u001b[0m\u001b[1;33m\u001b[0m\u001b[1;33m\u001b[0m\u001b[0m\n",
      "\u001b[1;31mTypeError\u001b[0m: 'int' object is not callable"
     ]
    }
   ],
   "source": [
    "for K in tqdm(range(len(Train))):\n",
    "    INPUTS=[(Train[K])[:100]]\n",
    "    PREDICTIONS=[]\n",
    "    \n",
    "    CURR_SAMPLES=np.array(INPUTS)\n",
    "    \n",
    "    \n",
    "    \n",
    "    \n",
    "    CURRENT_TENSOR=Variable(torch.from_numpy(CURR_SAMPLES).type(torch.FloatTensor), requires_grad = True)\n",
    "    \n",
    "    input_size=len(Train[K])\n",
    "    CURR_STATE=model(CURRENT_TENSOR)\n",
    "    print(CURR_STATE)\n",
    "    PREDICTIONS.append(CURR_STATE)\n",
    "    loss=criterion(CURR_STATE,np.array([Train[K][100]]))\n",
    "    \n",
    "    \n",
    "    model.zero_grad()\n",
    "    \n",
    "    \n",
    "    criterion.backward()\n",
    "    \n",
    "    optimizers.step()\n",
    "  "
   ]
  },
  {
   "cell_type": "code",
   "execution_count": null,
   "metadata": {},
   "outputs": [],
   "source": []
  },
  {
   "cell_type": "code",
   "execution_count": null,
   "metadata": {},
   "outputs": [],
   "source": []
  },
  {
   "cell_type": "code",
   "execution_count": null,
   "metadata": {},
   "outputs": [],
   "source": []
  }
 ],
 "metadata": {
  "kernelspec": {
   "display_name": "Python 3",
   "language": "python",
   "name": "python3"
  },
  "language_info": {
   "codemirror_mode": {
    "name": "ipython",
    "version": 3
   },
   "file_extension": ".py",
   "mimetype": "text/x-python",
   "name": "python",
   "nbconvert_exporter": "python",
   "pygments_lexer": "ipython3",
   "version": "3.7.3"
  }
 },
 "nbformat": 4,
 "nbformat_minor": 2
}
